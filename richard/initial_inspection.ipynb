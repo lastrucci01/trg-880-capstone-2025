{
 "cells": [
  {
   "cell_type": "markdown",
   "id": "5b842c92",
   "metadata": {},
   "source": [
    "# Read in the data"
   ]
  },
  {
   "cell_type": "code",
   "execution_count": 2,
   "id": "4cc4f287",
   "metadata": {},
   "outputs": [],
   "source": [
    "import pandas as pd\n",
    "df = pd.read_csv(\"../data/data.csv\")"
   ]
  },
  {
   "cell_type": "markdown",
   "id": "807b441c",
   "metadata": {},
   "source": [
    "# Data Inspection"
   ]
  },
  {
   "cell_type": "code",
   "execution_count": 3,
   "id": "c9ce5d40",
   "metadata": {},
   "outputs": [
    {
     "data": {
      "text/plain": [
       "(326696, 32)"
      ]
     },
     "execution_count": 3,
     "metadata": {},
     "output_type": "execute_result"
    }
   ],
   "source": [
    "df.shape"
   ]
  },
  {
   "cell_type": "code",
   "execution_count": 4,
   "id": "3770d302",
   "metadata": {},
   "outputs": [
    {
     "data": {
      "text/plain": [
       "Index(['POLICY_NUMBER', 'PRODUCT_CODE', 'PREMIUM', 'INCOME', 'PAYMENT_MODE',\n",
       "       'STATUS', 'STATUS_DATE', 'COMMENCEMENT_DATE', 'TERM', 'PAYFREQ',\n",
       "       'ID_DOCUMENT_CODE', 'OCCUPATION_CODE', 'PAYER_DATE_OF_BIRTH', 'GENDER',\n",
       "       'MARITAL_STATUS', 'TITLE', 'INSURED_ID_DESCRIPTION', 'OCCUPATION_DESC1',\n",
       "       'INSURED_DATE_OF_BIRTH', 'INSURED_GENDER', 'INSURED_MARITAL_STATUS',\n",
       "       'INSURED_TITLE', 'PAYPOINT_NAME', 'COMPANY_NAME', 'DATE_OF_BIRTH',\n",
       "       'GENDER1', 'ID_DOCUMENT', 'ps_lapse1', 'xx', 'ee', 'nbank', 'nloans'],\n",
       "      dtype='object')"
      ]
     },
     "execution_count": 4,
     "metadata": {},
     "output_type": "execute_result"
    }
   ],
   "source": [
    "df.columns"
   ]
  },
  {
   "cell_type": "code",
   "execution_count": 5,
   "id": "8a02c960",
   "metadata": {},
   "outputs": [
    {
     "data": {
      "text/html": [
       "<div>\n",
       "<style scoped>\n",
       "    .dataframe tbody tr th:only-of-type {\n",
       "        vertical-align: middle;\n",
       "    }\n",
       "\n",
       "    .dataframe tbody tr th {\n",
       "        vertical-align: top;\n",
       "    }\n",
       "\n",
       "    .dataframe thead th {\n",
       "        text-align: right;\n",
       "    }\n",
       "</style>\n",
       "<table border=\"1\" class=\"dataframe\">\n",
       "  <thead>\n",
       "    <tr style=\"text-align: right;\">\n",
       "      <th></th>\n",
       "      <th>POLICY_NUMBER</th>\n",
       "      <th>PRODUCT_CODE</th>\n",
       "      <th>PREMIUM</th>\n",
       "      <th>INCOME</th>\n",
       "      <th>PAYMENT_MODE</th>\n",
       "      <th>STATUS</th>\n",
       "      <th>STATUS_DATE</th>\n",
       "      <th>COMMENCEMENT_DATE</th>\n",
       "      <th>TERM</th>\n",
       "      <th>PAYFREQ</th>\n",
       "      <th>...</th>\n",
       "      <th>PAYPOINT_NAME</th>\n",
       "      <th>COMPANY_NAME</th>\n",
       "      <th>DATE_OF_BIRTH</th>\n",
       "      <th>GENDER1</th>\n",
       "      <th>ID_DOCUMENT</th>\n",
       "      <th>ps_lapse1</th>\n",
       "      <th>xx</th>\n",
       "      <th>ee</th>\n",
       "      <th>nbank</th>\n",
       "      <th>nloans</th>\n",
       "    </tr>\n",
       "  </thead>\n",
       "  <tbody>\n",
       "    <tr>\n",
       "      <th>0</th>\n",
       "      <td>225870.0</td>\n",
       "      <td>A23</td>\n",
       "      <td>387.32</td>\n",
       "      <td>8415.0</td>\n",
       "      <td>ADD</td>\n",
       "      <td>ACT</td>\n",
       "      <td>17776</td>\n",
       "      <td>17776</td>\n",
       "      <td>10</td>\n",
       "      <td>12</td>\n",
       "      <td>...</td>\n",
       "      <td>Paypoint21</td>\n",
       "      <td>Comp95</td>\n",
       "      <td>35010</td>\n",
       "      <td>MALE</td>\n",
       "      <td>2</td>\n",
       "      <td>70.000000</td>\n",
       "      <td>0.400020</td>\n",
       "      <td>0.000002</td>\n",
       "      <td>4</td>\n",
       "      <td>3</td>\n",
       "    </tr>\n",
       "    <tr>\n",
       "      <th>1</th>\n",
       "      <td>183200.0</td>\n",
       "      <td>A1</td>\n",
       "      <td>195.53</td>\n",
       "      <td>6421.0</td>\n",
       "      <td>RSO</td>\n",
       "      <td>Act</td>\n",
       "      <td>17440</td>\n",
       "      <td>17440</td>\n",
       "      <td>99</td>\n",
       "      <td>12</td>\n",
       "      <td>...</td>\n",
       "      <td>Paypoint224</td>\n",
       "      <td>Comp121</td>\n",
       "      <td>35721</td>\n",
       "      <td>MALE</td>\n",
       "      <td>1</td>\n",
       "      <td>78.604371</td>\n",
       "      <td>0.939963</td>\n",
       "      <td>0.000007</td>\n",
       "      <td>1</td>\n",
       "      <td>9</td>\n",
       "    </tr>\n",
       "    <tr>\n",
       "      <th>2</th>\n",
       "      <td>237218.0</td>\n",
       "      <td>A23</td>\n",
       "      <td>100.00</td>\n",
       "      <td>1100.0</td>\n",
       "      <td>ADD</td>\n",
       "      <td>LAP</td>\n",
       "      <td>17045</td>\n",
       "      <td>16953</td>\n",
       "      <td>10</td>\n",
       "      <td>12</td>\n",
       "      <td>...</td>\n",
       "      <td>Paypoint202</td>\n",
       "      <td>Comp49</td>\n",
       "      <td>8988</td>\n",
       "      <td>MALE</td>\n",
       "      <td>1</td>\n",
       "      <td>78.604371</td>\n",
       "      <td>0.151496</td>\n",
       "      <td>0.000008</td>\n",
       "      <td>1</td>\n",
       "      <td>3</td>\n",
       "    </tr>\n",
       "    <tr>\n",
       "      <th>3</th>\n",
       "      <td>87997.0</td>\n",
       "      <td>A1</td>\n",
       "      <td>231.00</td>\n",
       "      <td>2616.0</td>\n",
       "      <td>ADD</td>\n",
       "      <td>ACT</td>\n",
       "      <td>18809</td>\n",
       "      <td>18809</td>\n",
       "      <td>99</td>\n",
       "      <td>12</td>\n",
       "      <td>...</td>\n",
       "      <td>Paypoint21</td>\n",
       "      <td>Comp19</td>\n",
       "      <td>3809</td>\n",
       "      <td>MALE</td>\n",
       "      <td>1</td>\n",
       "      <td>78.604371</td>\n",
       "      <td>0.611263</td>\n",
       "      <td>0.000013</td>\n",
       "      <td>2</td>\n",
       "      <td>2</td>\n",
       "    </tr>\n",
       "    <tr>\n",
       "      <th>4</th>\n",
       "      <td>279420.0</td>\n",
       "      <td>A1</td>\n",
       "      <td>107.66</td>\n",
       "      <td>4639.0</td>\n",
       "      <td>DSO</td>\n",
       "      <td>Act</td>\n",
       "      <td>17776</td>\n",
       "      <td>17776</td>\n",
       "      <td>99</td>\n",
       "      <td>12</td>\n",
       "      <td>...</td>\n",
       "      <td>Paypoint61</td>\n",
       "      <td>Comp121</td>\n",
       "      <td>8000</td>\n",
       "      <td>FEMALE</td>\n",
       "      <td>1</td>\n",
       "      <td>78.604371</td>\n",
       "      <td>0.871717</td>\n",
       "      <td>0.000016</td>\n",
       "      <td>5</td>\n",
       "      <td>7</td>\n",
       "    </tr>\n",
       "  </tbody>\n",
       "</table>\n",
       "<p>5 rows × 32 columns</p>\n",
       "</div>"
      ],
      "text/plain": [
       "   POLICY_NUMBER PRODUCT_CODE  PREMIUM  INCOME PAYMENT_MODE STATUS  \\\n",
       "0       225870.0          A23   387.32  8415.0          ADD    ACT   \n",
       "1       183200.0           A1   195.53  6421.0          RSO    Act   \n",
       "2       237218.0          A23   100.00  1100.0          ADD    LAP   \n",
       "3        87997.0           A1   231.00  2616.0          ADD    ACT   \n",
       "4       279420.0           A1   107.66  4639.0          DSO    Act   \n",
       "\n",
       "   STATUS_DATE  COMMENCEMENT_DATE  TERM  PAYFREQ  ...  PAYPOINT_NAME  \\\n",
       "0        17776              17776    10       12  ...     Paypoint21   \n",
       "1        17440              17440    99       12  ...    Paypoint224   \n",
       "2        17045              16953    10       12  ...    Paypoint202   \n",
       "3        18809              18809    99       12  ...     Paypoint21   \n",
       "4        17776              17776    99       12  ...     Paypoint61   \n",
       "\n",
       "   COMPANY_NAME  DATE_OF_BIRTH GENDER1 ID_DOCUMENT  ps_lapse1        xx  \\\n",
       "0        Comp95          35010    MALE           2  70.000000  0.400020   \n",
       "1       Comp121          35721    MALE           1  78.604371  0.939963   \n",
       "2        Comp49           8988    MALE           1  78.604371  0.151496   \n",
       "3        Comp19           3809    MALE           1  78.604371  0.611263   \n",
       "4       Comp121           8000  FEMALE           1  78.604371  0.871717   \n",
       "\n",
       "         ee  nbank nloans  \n",
       "0  0.000002      4      3  \n",
       "1  0.000007      1      9  \n",
       "2  0.000008      1      3  \n",
       "3  0.000013      2      2  \n",
       "4  0.000016      5      7  \n",
       "\n",
       "[5 rows x 32 columns]"
      ]
     },
     "execution_count": 5,
     "metadata": {},
     "output_type": "execute_result"
    }
   ],
   "source": [
    "df.head()"
   ]
  },
  {
   "cell_type": "code",
   "execution_count": 8,
   "id": "14a26a08",
   "metadata": {},
   "outputs": [
    {
     "data": {
      "text/plain": [
       "POLICY_NUMBER             float64\n",
       "PRODUCT_CODE               object\n",
       "PREMIUM                   float64\n",
       "INCOME                    float64\n",
       "PAYMENT_MODE               object\n",
       "STATUS                     object\n",
       "STATUS_DATE                 int64\n",
       "COMMENCEMENT_DATE           int64\n",
       "TERM                        int64\n",
       "PAYFREQ                     int64\n",
       "ID_DOCUMENT_CODE          float64\n",
       "OCCUPATION_CODE           float64\n",
       "PAYER_DATE_OF_BIRTH         int64\n",
       "GENDER                     object\n",
       "MARITAL_STATUS             object\n",
       "TITLE                      object\n",
       "INSURED_ID_DESCRIPTION      int64\n",
       "OCCUPATION_DESC1           object\n",
       "INSURED_DATE_OF_BIRTH       int64\n",
       "INSURED_GENDER             object\n",
       "INSURED_MARITAL_STATUS     object\n",
       "INSURED_TITLE              object\n",
       "PAYPOINT_NAME              object\n",
       "COMPANY_NAME               object\n",
       "DATE_OF_BIRTH               int64\n",
       "GENDER1                    object\n",
       "ID_DOCUMENT                 int64\n",
       "ps_lapse1                 float64\n",
       "xx                        float64\n",
       "ee                        float64\n",
       "nbank                       int64\n",
       "nloans                      int64\n",
       "dtype: object"
      ]
     },
     "execution_count": 8,
     "metadata": {},
     "output_type": "execute_result"
    }
   ],
   "source": [
    "df.dtypes"
   ]
  },
  {
   "cell_type": "code",
   "execution_count": 9,
   "id": "3d9ae71f",
   "metadata": {},
   "outputs": [
    {
     "data": {
      "text/plain": [
       "POLICY_NUMBER                 0\n",
       "PRODUCT_CODE                  0\n",
       "PREMIUM                       0\n",
       "INCOME                      111\n",
       "PAYMENT_MODE                  0\n",
       "STATUS                        0\n",
       "STATUS_DATE                   0\n",
       "COMMENCEMENT_DATE             0\n",
       "TERM                          0\n",
       "PAYFREQ                       0\n",
       "ID_DOCUMENT_CODE             49\n",
       "OCCUPATION_CODE           15194\n",
       "PAYER_DATE_OF_BIRTH           0\n",
       "GENDER                        0\n",
       "MARITAL_STATUS               99\n",
       "TITLE                        42\n",
       "INSURED_ID_DESCRIPTION        0\n",
       "OCCUPATION_DESC1           6127\n",
       "INSURED_DATE_OF_BIRTH         0\n",
       "INSURED_GENDER                0\n",
       "INSURED_MARITAL_STATUS     6113\n",
       "INSURED_TITLE                38\n",
       "PAYPOINT_NAME                 0\n",
       "COMPANY_NAME                  0\n",
       "DATE_OF_BIRTH                 0\n",
       "GENDER1                       0\n",
       "ID_DOCUMENT                   0\n",
       "ps_lapse1                     0\n",
       "xx                            0\n",
       "ee                            0\n",
       "nbank                         0\n",
       "nloans                        0\n",
       "dtype: int64"
      ]
     },
     "execution_count": 9,
     "metadata": {},
     "output_type": "execute_result"
    }
   ],
   "source": [
    "df.isna().sum()"
   ]
  },
  {
   "cell_type": "code",
   "execution_count": 11,
   "id": "a4ead7c2",
   "metadata": {},
   "outputs": [
    {
     "data": {
      "text/plain": [
       "np.int64(0)"
      ]
     },
     "execution_count": 11,
     "metadata": {},
     "output_type": "execute_result"
    }
   ],
   "source": [
    "df.duplicated().sum()"
   ]
  },
  {
   "cell_type": "code",
   "execution_count": null,
   "id": "c86947c8",
   "metadata": {},
   "outputs": [],
   "source": []
  }
 ],
 "metadata": {
  "kernelspec": {
   "display_name": "mva",
   "language": "python",
   "name": "python3"
  },
  "language_info": {
   "codemirror_mode": {
    "name": "ipython",
    "version": 3
   },
   "file_extension": ".py",
   "mimetype": "text/x-python",
   "name": "python",
   "nbconvert_exporter": "python",
   "pygments_lexer": "ipython3",
   "version": "3.13.1"
  }
 },
 "nbformat": 4,
 "nbformat_minor": 5
}
